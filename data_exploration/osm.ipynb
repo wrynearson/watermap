{
 "cells": [
  {
   "cell_type": "code",
   "execution_count": 1,
   "metadata": {},
   "outputs": [],
   "source": [
    "import lonboard\n",
    "from lonboard import viz\n",
    "import pyrosm\n",
    "from pyrosm import get_data, OSM\n",
    "from pyrosm.data import sources\n",
    "import pandas as pd\n",
    "import geopandas as gpd\n",
    "import ast\n",
    "import json\n",
    "import re"
   ]
  },
  {
   "cell_type": "code",
   "execution_count": 2,
   "metadata": {},
   "outputs": [
    {
     "name": "stderr",
     "output_type": "stream",
     "text": [
      "/opt/homebrew/lib/python3.10/site-packages/pyogrio/geopandas.py:265: UserWarning: More than one layer found in 'drinking_water.osm.pbf': 'points' (default), 'lines', 'multilinestrings', 'multipolygons', 'other_relations'. Specify layer parameter to avoid this warning.\n",
      "  result = read_func(\n",
      "/opt/homebrew/lib/python3.10/site-packages/pyogrio/geopandas.py:265: UserWarning: More than one layer found in 'toilets.osm.pbf': 'points' (default), 'lines', 'multilinestrings', 'multipolygons', 'other_relations'. Specify layer parameter to avoid this warning.\n",
      "  result = read_func(\n"
     ]
    }
   ],
   "source": [
    "# Help for the engine: https://github.com/geopandas/geopandas/discussions/3015\n",
    "\n",
    "water = gpd.read_file(\"drinking_water.osm.pbf\", engine=\"pyogrio\")\n",
    "toilets = gpd.read_file(\"toilets.osm.pbf\", engine=\"pyogrio\")"
   ]
  },
  {
   "cell_type": "code",
   "execution_count": 3,
   "metadata": {},
   "outputs": [
    {
     "name": "stdout",
     "output_type": "stream",
     "text": [
      "13610 drinking water POIs and 5243 toilet POIs\n"
     ]
    }
   ],
   "source": [
    "print(len(water), \"drinking water POIs and\", len(toilets), \"toilet POIs\")"
   ]
  },
  {
   "cell_type": "code",
   "execution_count": 4,
   "metadata": {},
   "outputs": [],
   "source": [
    "water = water[[\"osm_id\", \"name\", \"geometry\", \"other_tags\"]]\n",
    "toilets = toilets[[\"osm_id\", \"name\", \"geometry\", \"other_tags\"]]"
   ]
  },
  {
   "cell_type": "code",
   "execution_count": 5,
   "metadata": {},
   "outputs": [
    {
     "data": {
      "application/vnd.jupyter.widget-view+json": {
       "model_id": "a6caef8ee7aa483f91a5b2356882107b",
       "version_major": 2,
       "version_minor": 1
      },
      "text/plain": [
       "Map(basemap_style=<CartoBasemap.DarkMatter: 'https://basemaps.cartocdn.com/gl/dark-matter-gl-style/style.json'…"
      ]
     },
     "execution_count": 5,
     "metadata": {},
     "output_type": "execute_result"
    }
   ],
   "source": [
    "viz([toilets, water])"
   ]
  }
 ],
 "metadata": {
  "kernelspec": {
   "display_name": "Python 3",
   "language": "python",
   "name": "python3"
  },
  "language_info": {
   "codemirror_mode": {
    "name": "ipython",
    "version": 3
   },
   "file_extension": ".py",
   "mimetype": "text/x-python",
   "name": "python",
   "nbconvert_exporter": "python",
   "pygments_lexer": "ipython3",
   "version": "3.10.15"
  }
 },
 "nbformat": 4,
 "nbformat_minor": 2
}
