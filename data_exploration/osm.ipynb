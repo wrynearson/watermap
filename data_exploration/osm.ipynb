{
 "cells": [
  {
   "cell_type": "code",
   "execution_count": 10,
   "metadata": {},
   "outputs": [],
   "source": [
    "import lonboard\n",
    "from lonboard import viz\n",
    "import pyrosm\n",
    "from pyrosm import get_data, OSM\n",
    "from pyrosm.data import sources\n",
    "import pandas as pd\n",
    "import geopandas as gpd\n",
    "import ast\n",
    "import json\n",
    "import re"
   ]
  },
  {
   "cell_type": "code",
   "execution_count": 11,
   "metadata": {},
   "outputs": [],
   "source": [
    "# Help for the engine: https://github.com/geopandas/geopandas/discussions/3015\n",
    "\n",
    "water = gpd.read_file(\"../data/drinking_water.osm.pbf\", engine=\"pyogrio\", layer=\"points\")\n",
    "toilets = gpd.read_file(\"../data/toilets.osm.pbf\", engine=\"pyogrio\", layer=\"points\")"
   ]
  },
  {
   "cell_type": "code",
   "execution_count": 12,
   "metadata": {},
   "outputs": [
    {
     "name": "stdout",
     "output_type": "stream",
     "text": [
      "13610 drinking water POIs and 5243 toilet POIs\n"
     ]
    }
   ],
   "source": [
    "print(len(water), \"drinking water POIs and\", len(toilets), \"toilet POIs\")"
   ]
  },
  {
   "cell_type": "code",
   "execution_count": 15,
   "metadata": {},
   "outputs": [
    {
     "data": {
      "text/html": [
       "<div>\n",
       "<style scoped>\n",
       "    .dataframe tbody tr th:only-of-type {\n",
       "        vertical-align: middle;\n",
       "    }\n",
       "\n",
       "    .dataframe tbody tr th {\n",
       "        vertical-align: top;\n",
       "    }\n",
       "\n",
       "    .dataframe thead th {\n",
       "        text-align: right;\n",
       "    }\n",
       "</style>\n",
       "<table border=\"1\" class=\"dataframe\">\n",
       "  <thead>\n",
       "    <tr style=\"text-align: right;\">\n",
       "      <th></th>\n",
       "      <th>osm_id</th>\n",
       "      <th>name</th>\n",
       "      <th>geometry</th>\n",
       "      <th>other_tags</th>\n",
       "    </tr>\n",
       "  </thead>\n",
       "  <tbody>\n",
       "    <tr>\n",
       "      <th>0</th>\n",
       "      <td>60030906</td>\n",
       "      <td>Notwasserbrunnen</td>\n",
       "      <td>POINT (8.54128 47.41353)</td>\n",
       "      <td>\"amenity\"=&gt;\"drinking_water\",\"bottle\"=&gt;\"yes\",\"d...</td>\n",
       "    </tr>\n",
       "    <tr>\n",
       "      <th>1</th>\n",
       "      <td>60733338</td>\n",
       "      <td>Tränkbrunnen Höngg</td>\n",
       "      <td>POINT (8.49994 47.40283)</td>\n",
       "      <td>\"amenity\"=&gt;\"drinking_water\",\"artist_name\"=&gt;\"Ha...</td>\n",
       "    </tr>\n",
       "    <tr>\n",
       "      <th>2</th>\n",
       "      <td>60733384</td>\n",
       "      <td>None</td>\n",
       "      <td>POINT (8.49944 47.40216)</td>\n",
       "      <td>\"amenity\"=&gt;\"drinking_water\",\"bottle\"=&gt;\"yes\",\"d...</td>\n",
       "    </tr>\n",
       "    <tr>\n",
       "      <th>3</th>\n",
       "      <td>60734353</td>\n",
       "      <td>None</td>\n",
       "      <td>POINT (8.55048 47.40729)</td>\n",
       "      <td>\"amenity\"=&gt;\"drinking_water\",\"drinking_water:de...</td>\n",
       "    </tr>\n",
       "    <tr>\n",
       "      <th>4</th>\n",
       "      <td>61263856</td>\n",
       "      <td>None</td>\n",
       "      <td>POINT (8.50377 47.40530)</td>\n",
       "      <td>\"amenity\"=&gt;\"drinking_water\",\"check_date\"=&gt;\"202...</td>\n",
       "    </tr>\n",
       "    <tr>\n",
       "      <th>...</th>\n",
       "      <td>...</td>\n",
       "      <td>...</td>\n",
       "      <td>...</td>\n",
       "      <td>...</td>\n",
       "    </tr>\n",
       "    <tr>\n",
       "      <th>13605</th>\n",
       "      <td>12278345294</td>\n",
       "      <td>None</td>\n",
       "      <td>POINT (7.94386 47.53881)</td>\n",
       "      <td>\"access\"=&gt;\"yes\",\"amenity\"=&gt;\"drinking_water\",\"f...</td>\n",
       "    </tr>\n",
       "    <tr>\n",
       "      <th>13606</th>\n",
       "      <td>12288234979</td>\n",
       "      <td>None</td>\n",
       "      <td>POINT (7.06235 46.11572)</td>\n",
       "      <td>\"amenity\"=&gt;\"drinking_water\"</td>\n",
       "    </tr>\n",
       "    <tr>\n",
       "      <th>13607</th>\n",
       "      <td>12289915188</td>\n",
       "      <td>None</td>\n",
       "      <td>POINT (6.14958 46.21975)</td>\n",
       "      <td>\"amenity\"=&gt;\"drinking_water\",\"fountain\"=&gt;\"drink...</td>\n",
       "    </tr>\n",
       "    <tr>\n",
       "      <th>13608</th>\n",
       "      <td>12289923973</td>\n",
       "      <td>None</td>\n",
       "      <td>POINT (6.15037 46.21943)</td>\n",
       "      <td>\"amenity\"=&gt;\"drinking_water\",\"fountain\"=&gt;\"drink...</td>\n",
       "    </tr>\n",
       "    <tr>\n",
       "      <th>13609</th>\n",
       "      <td>12292446103</td>\n",
       "      <td>None</td>\n",
       "      <td>POINT (9.54938 46.86917)</td>\n",
       "      <td>\"access\"=&gt;\"yes\",\"amenity\"=&gt;\"drinking_water\",\"f...</td>\n",
       "    </tr>\n",
       "  </tbody>\n",
       "</table>\n",
       "<p>13610 rows × 4 columns</p>\n",
       "</div>"
      ],
      "text/plain": [
       "            osm_id                name                  geometry  \\\n",
       "0         60030906    Notwasserbrunnen  POINT (8.54128 47.41353)   \n",
       "1         60733338  Tränkbrunnen Höngg  POINT (8.49994 47.40283)   \n",
       "2         60733384                None  POINT (8.49944 47.40216)   \n",
       "3         60734353                None  POINT (8.55048 47.40729)   \n",
       "4         61263856                None  POINT (8.50377 47.40530)   \n",
       "...            ...                 ...                       ...   \n",
       "13605  12278345294                None  POINT (7.94386 47.53881)   \n",
       "13606  12288234979                None  POINT (7.06235 46.11572)   \n",
       "13607  12289915188                None  POINT (6.14958 46.21975)   \n",
       "13608  12289923973                None  POINT (6.15037 46.21943)   \n",
       "13609  12292446103                None  POINT (9.54938 46.86917)   \n",
       "\n",
       "                                              other_tags  \n",
       "0      \"amenity\"=>\"drinking_water\",\"bottle\"=>\"yes\",\"d...  \n",
       "1      \"amenity\"=>\"drinking_water\",\"artist_name\"=>\"Ha...  \n",
       "2      \"amenity\"=>\"drinking_water\",\"bottle\"=>\"yes\",\"d...  \n",
       "3      \"amenity\"=>\"drinking_water\",\"drinking_water:de...  \n",
       "4      \"amenity\"=>\"drinking_water\",\"check_date\"=>\"202...  \n",
       "...                                                  ...  \n",
       "13605  \"access\"=>\"yes\",\"amenity\"=>\"drinking_water\",\"f...  \n",
       "13606                        \"amenity\"=>\"drinking_water\"  \n",
       "13607  \"amenity\"=>\"drinking_water\",\"fountain\"=>\"drink...  \n",
       "13608  \"amenity\"=>\"drinking_water\",\"fountain\"=>\"drink...  \n",
       "13609  \"access\"=>\"yes\",\"amenity\"=>\"drinking_water\",\"f...  \n",
       "\n",
       "[13610 rows x 4 columns]"
      ]
     },
     "execution_count": 15,
     "metadata": {},
     "output_type": "execute_result"
    }
   ],
   "source": [
    "water"
   ]
  },
  {
   "cell_type": "code",
   "execution_count": 13,
   "metadata": {},
   "outputs": [],
   "source": [
    "water = water[[\"osm_id\", \"name\", \"geometry\", \"other_tags\"]]\n",
    "toilets = toilets[[\"osm_id\", \"name\", \"geometry\", \"other_tags\"]]"
   ]
  },
  {
   "cell_type": "code",
   "execution_count": 14,
   "metadata": {},
   "outputs": [
    {
     "data": {
      "application/vnd.jupyter.widget-view+json": {
       "model_id": "ed0e52eecd594fe89fec899a6c7a1846",
       "version_major": 2,
       "version_minor": 1
      },
      "text/plain": [
       "Map(basemap_style=<CartoBasemap.DarkMatter: 'https://basemaps.cartocdn.com/gl/dark-matter-gl-style/style.json'…"
      ]
     },
     "execution_count": 14,
     "metadata": {},
     "output_type": "execute_result"
    }
   ],
   "source": [
    "viz([toilets, water])"
   ]
  },
  {
   "cell_type": "code",
   "execution_count": 19,
   "metadata": {},
   "outputs": [],
   "source": [
    "water_min = water[[\"osm_id\", \"geometry\"]]\n",
    "water_min.to_file(\"../data/water2.geojson\", driver=\"GeoJSON\")"
   ]
  },
  {
   "cell_type": "code",
   "execution_count": null,
   "metadata": {},
   "outputs": [],
   "source": []
  }
 ],
 "metadata": {
  "kernelspec": {
   "display_name": "Python 3",
   "language": "python",
   "name": "python3"
  },
  "language_info": {
   "codemirror_mode": {
    "name": "ipython",
    "version": 3
   },
   "file_extension": ".py",
   "mimetype": "text/x-python",
   "name": "python",
   "nbconvert_exporter": "python",
   "pygments_lexer": "ipython3",
   "version": "3.10.15"
  }
 },
 "nbformat": 4,
 "nbformat_minor": 2
}
