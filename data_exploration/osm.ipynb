{
  "cells": [
    {
      "cell_type": "code",
      "execution_count": 76,
      "metadata": {},
      "outputs": [],
      "source": [
        "from lonboard import viz, PathLayer\n",
        "from lonboard.colormap import apply_categorical_cmap\n",
        "import pandas as pd\n",
        "import geopandas as gpd\n",
        "import numpy as np"
      ]
    },
    {
      "cell_type": "code",
      "execution_count": 2,
      "metadata": {},
      "outputs": [
        {
          "name": "stdout",
          "output_type": "stream",
          "text": [
            "Layer: points, Number of features: 136058\n",
            "Layer: lines, Number of features: 94\n",
            "Layer: multilinestrings, Number of features: 0\n",
            "Nothing to write to multilinestrings.geojson. Skipping...\n",
            "Layer: multipolygons, Number of features: 45465\n"
          ]
        }
      ],
      "source": [
        "# From inspecting pbf files\n",
        "layers = ['points', 'lines', 'multilinestrings', 'multipolygons']\n",
        "\n",
        "gdf_list = []\n",
        "\n",
        "# Iterate through the layers and read each one\n",
        "for layer in layers:\n",
        "    try:\n",
        "        # Read the layer from the PBF file\n",
        "        gdf = gpd.read_file(\"../data/raw/output/europe_toilets.pbf\", engine=\"pyogrio\", layer=layer)\n",
        "        \n",
        "        # Add a new column to indicate the layer\n",
        "        gdf['layer'] = layer\n",
        "        \n",
        "        # Append the GeoDataFrame to the list\n",
        "        gdf_list.append(gdf)\n",
        "\n",
        "        # Optionally print the first few rows of the GeoDataFrame\n",
        "        print(f\"Layer: {layer}, Number of features: {len(gdf)}\")\n",
        "\n",
        "        # Export the layer as a separate .geojson, to later add as tile layers in tippecanoe\n",
        "\n",
        "        if len(gdf) > 0:\n",
        "            export = gdf[[\"osm_id\", \"geometry\"]]\n",
        "            export.to_file(f\"../data/raw/geojsons/{layer}.geojson\", driver=\"GeoJSON\")\n",
        "        else:\n",
        "            print(f\"Nothing to write to {layer}.geojson. Skipping...\")\n",
        "    except Exception as e:\n",
        "        print(f\"Failed to read layer {layer}: {e}\")\n",
        "\n",
        "# Concatenate all GeoDataFrames in the list into a single GeoDataFrame\n",
        "combined_gdf = gpd.GeoDataFrame(pd.concat(gdf_list, ignore_index=True))\n",
        "\n",
        "combined_gdf_min = combined_gdf[[\"osm_id\", \"geometry\"]]"
      ]
    },
    {
      "cell_type": "code",
      "execution_count": 3,
      "metadata": {},
      "outputs": [
        {
          "data": {
            "application/vnd.jupyter.widget-view+json": {
              "model_id": "12119fcf763342d3ade3d7cd5ea5baa4",
              "version_major": 2,
              "version_minor": 1
            },
            "text/plain": [
              "Map(basemap_style=<CartoBasemap.DarkMatter: 'https://basemaps.cartocdn.com/gl/dark-matter-gl-style/style.json'…"
            ]
          },
          "execution_count": 3,
          "metadata": {},
          "output_type": "execute_result"
        }
      ],
      "source": [
        "viz(combined_gdf_min)"
      ]
    },
    {
      "cell_type": "code",
      "execution_count": 4,
      "metadata": {},
      "outputs": [],
      "source": [
        "# Help for the engine: https://github.com/geopandas/geopandas/discussions/3015\n",
        "\n",
        "water = gpd.read_file(\"../data/raw/output/europe_water.pbf\", engine=\"pyogrio\", layer = \"points\")\n",
        "toilets = gpd.read_file(\"../data/raw/output/europe_toilets.pbf\", engine=\"pyogrio\", layer=\"points\")\n",
        "benches = gpd.read_file(\"../data/raw/output/europe_benches.pbf\", engine=\"pyogrio\", layer=\"points\")"
      ]
    },
    {
      "cell_type": "code",
      "execution_count": 5,
      "metadata": {},
      "outputs": [
        {
          "name": "stdout",
          "output_type": "stream",
          "text": [
            "248904 drinking water POIs, 136058 toilet POIs, and 2382296 bench/picnic table POIs\n"
          ]
        }
      ],
      "source": [
        "print(len(water), \"drinking water POIs,\", len(toilets), \"toilet POIs, and\", len(benches), \"bench/picnic table POIs\")"
      ]
    },
    {
      "cell_type": "code",
      "execution_count": 6,
      "metadata": {},
      "outputs": [],
      "source": [
        "water = water[[\"osm_id\", \"name\", \"geometry\", \"other_tags\"]]\n",
        "toilets = toilets[[\"osm_id\", \"name\", \"geometry\", \"other_tags\"]]"
      ]
    },
    {
      "cell_type": "code",
      "execution_count": 7,
      "metadata": {},
      "outputs": [
        {
          "data": {
            "application/vnd.jupyter.widget-view+json": {
              "model_id": "0e41270f7cf44ff4bef06d761b9e8e43",
              "version_major": 2,
              "version_minor": 1
            },
            "text/plain": [
              "Map(basemap_style=<CartoBasemap.DarkMatter: 'https://basemaps.cartocdn.com/gl/dark-matter-gl-style/style.json'…"
            ]
          },
          "execution_count": 7,
          "metadata": {},
          "output_type": "execute_result"
        }
      ],
      "source": [
        "viz([toilets, water])"
      ]
    },
    {
      "cell_type": "code",
      "execution_count": 8,
      "metadata": {},
      "outputs": [],
      "source": [
        "water_min = water[[\"osm_id\", \"geometry\"]]\n",
        "# water_min.to_file(\"../data/water.geojson\", driver=\"GeoJSON\")"
      ]
    },
    {
      "cell_type": "code",
      "execution_count": 9,
      "metadata": {},
      "outputs": [],
      "source": [
        "toilets_min = toilets[[\"osm_id\", \"geometry\"]]\n",
        "# toilets_min.to_file(\"../data/toilets.geojson\", driver=\"GeoJSON\")"
      ]
    },
    {
      "cell_type": "markdown",
      "metadata": {},
      "source": [
        "---\n",
        "\n",
        "## SAC Scale"
      ]
    },
    {
      "cell_type": "code",
      "execution_count": 27,
      "metadata": {},
      "outputs": [],
      "source": [
        "# Function to extract sac_scale from other_tags\n",
        "def extract_sac_scale(other_tags):\n",
        "    if pd.isna(other_tags) or 'sac_scale' not in other_tags:\n",
        "        return None\n",
        "    import re\n",
        "    match = re.search(r'\"sac_scale\"=>\\\"([^\\\"]+)\\\"', other_tags)\n",
        "    return match.group(1) if match else None"
      ]
    },
    {
      "cell_type": "code",
      "execution_count": 118,
      "metadata": {},
      "outputs": [
        {
          "name": "stdout",
          "output_type": "stream",
          "text": [
            "SAC Scale Distribution:\n",
            "sac_scale\n",
            "hiking                                         27734\n",
            "mountain_hiking                                18645\n",
            "demanding_mountain_hiking                       3218\n",
            "alpine_hiking                                   1415\n",
            "demanding_alpine_hiking                          500\n",
            "difficult_alpine_hiking                          216\n",
            "service                                            3\n",
            "hiking;mountain_hiking                             2\n",
            "mountain_way                                       1\n",
            "mountain_hiking;hiking                             1\n",
            "T4 - difficult, exposed, steep alpine trail        1\n",
            "3                                                  1\n",
            "Name: count, dtype: int64\n"
          ]
        }
      ],
      "source": [
        "# Function to extract sac_scale from other_tags\n",
        "def extract_sac_scale(other_tags):\n",
        "    if pd.isna(other_tags) or 'sac_scale' not in other_tags:\n",
        "        return None\n",
        "    import re\n",
        "    match = re.search(r'\"sac_scale\"=>\\\"([^\\\"]+)\\\"', other_tags)\n",
        "    return match.group(1) if match else None\n",
        "\n",
        "# Load hiking paths data and save to a variable\n",
        "sac_gdf = gpd.read_file(\"../data/raw/output/sac.pbf\", engine=\"pyogrio\", layer=\"lines\")\n",
        "if 'other_tags' in sac_gdf.columns:\n",
        "    # Add sac_scale column\n",
        "    sac_gdf['sac_scale'] = sac_gdf['other_tags'].apply(extract_sac_scale)\n",
        "    \n",
        "    # Show the distribution of sac_scale values\n",
        "    print(\"SAC Scale Distribution:\")\n",
        "    print(sac_gdf['sac_scale'].value_counts(dropna=True))\n",
        "\n",
        "# Now sac_gdf contains your data with the sac_scale column\n"
      ]
    },
    {
      "cell_type": "code",
      "execution_count": 119,
      "metadata": {},
      "outputs": [],
      "source": [
        "sac_gdf = sac_gdf[[\"osm_id\", \"name\", \"geometry\", \"sac_scale\"]]"
      ]
    },
    {
      "cell_type": "code",
      "execution_count": 126,
      "metadata": {},
      "outputs": [],
      "source": [
        "# 1) Define your six allowed scales → codes 0–5\n",
        "code_map = {\n",
        "    'strolling':                    0,\n",
        "    'hiking':                       1,\n",
        "    'mountain_hiking':              2,\n",
        "    'demanding_mountain_hiking':    3,\n",
        "    'alpine_hiking':                4,\n",
        "    'demanding_alpine_hiking':      5,\n",
        "    'difficult_alpine_hiking':      6,\n",
        "}\n",
        "\n",
        "# 2) Filter to only those rows, so we never see any unmapped values\n",
        "mask = sac_gdf['sac_scale'].isin(code_map)\n",
        "sac_clean = sac_gdf[mask].copy()\n",
        "\n",
        "# 3) Create the 0–5 codes\n",
        "sac_clean['sac_code'] = sac_clean['sac_scale'].map(code_map)\n",
        "codes = sac_clean['sac_code'].to_numpy().astype(int)\n",
        "\n",
        "# 4) Define your six colors in [R,G,B] for codes 0→5:\n",
        "colors = [\n",
        "    [255, 255,   0],  # 0 → yellow\n",
        "    [255, 255,   0],  # 1 → yellow\n",
        "    [255, 165,   0],  # 2 → orange\n",
        "    [255,   0,   0],  # 3 → red\n",
        "    [  0,   0, 255],  # 4 → blue\n",
        "    [128,   0, 128],  # 5 → purple\n",
        "    [255,   0, 255],  # 6 → magenta\n",
        "]\n",
        "\n",
        "# 5) Build the Lonboard layer, passing your filtered GeoDataFrame via `data=`\n",
        "layer = PathLayer.from_geopandas(\n",
        "    gdf=sac_clean,\n",
        "    get_color=apply_categorical_cmap(codes, colors),\n",
        "    width_min_pixels = 2\n",
        ")\n",
        "\n",
        "# Now add `layer` to your Deck and render!"
      ]
    },
    {
      "cell_type": "code",
      "execution_count": 137,
      "metadata": {},
      "outputs": [],
      "source": [
        "Voyager = 'https://basemaps.cartocdn.com/gl/voyager-gl-style/style.json'"
      ]
    },
    {
      "cell_type": "code",
      "execution_count": 138,
      "metadata": {},
      "outputs": [
        {
          "data": {
            "application/vnd.jupyter.widget-view+json": {
              "model_id": "570a073dad444d008d55e2fdc70fe14f",
              "version_major": 2,
              "version_minor": 1
            },
            "text/plain": [
              "Map(basemap_style='https://basemaps.cartocdn.com/gl/voyager-gl-style/style.json', custom_attribution='', layer…"
            ]
          },
          "execution_count": 138,
          "metadata": {},
          "output_type": "execute_result"
        }
      ],
      "source": [
        "m = Map(layer, basemap_style=Voyager)\n",
        "m"
      ]
    },
    {
      "cell_type": "code",
      "execution_count": null,
      "metadata": {},
      "outputs": [],
      "source": []
    }
  ],
  "metadata": {
    "kernelspec": {
      "display_name": "watermap",
      "language": "python",
      "name": "python3"
    },
    "language_info": {
      "codemirror_mode": {
        "name": "ipython",
        "version": 3
      },
      "file_extension": ".py",
      "mimetype": "text/x-python",
      "name": "python",
      "nbconvert_exporter": "python",
      "pygments_lexer": "ipython3",
      "version": "3.13.3"
    }
  },
  "nbformat": 4,
  "nbformat_minor": 2
}
