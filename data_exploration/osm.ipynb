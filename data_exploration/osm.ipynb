{
 "cells": [
  {
   "cell_type": "code",
   "execution_count": 7,
   "metadata": {},
   "outputs": [],
   "source": [
    "import lonboard\n",
    "from lonboard import viz\n",
    "import pyrosm\n",
    "from pyrosm import get_data, OSM\n",
    "from pyrosm.data import sources\n",
    "import pandas as pd\n",
    "import geopandas as gpd\n",
    "import ast\n",
    "import json\n",
    "import re"
   ]
  },
  {
   "cell_type": "code",
   "execution_count": 8,
   "metadata": {},
   "outputs": [],
   "source": [
    "# Help for the engine: https://github.com/geopandas/geopandas/discussions/3015\n",
    "\n",
    "water = gpd.read_file(\"../data/drinking_water.osm.pbf\", engine=\"pyogrio\", layer=\"points\")\n",
    "toilets = gpd.read_file(\"../data/toilets.osm.pbf\", engine=\"pyogrio\", layer=\"points\")"
   ]
  },
  {
   "cell_type": "code",
   "execution_count": 9,
   "metadata": {},
   "outputs": [
    {
     "name": "stdout",
     "output_type": "stream",
     "text": [
      "13610 drinking water POIs and 5243 toilet POIs\n"
     ]
    }
   ],
   "source": [
    "print(len(water), \"drinking water POIs and\", len(toilets), \"toilet POIs\")"
   ]
  },
  {
   "cell_type": "code",
   "execution_count": 10,
   "metadata": {},
   "outputs": [],
   "source": [
    "water = water[[\"osm_id\", \"name\", \"geometry\", \"other_tags\"]]\n",
    "toilets = toilets[[\"osm_id\", \"name\", \"geometry\", \"other_tags\"]]"
   ]
  },
  {
   "cell_type": "code",
   "execution_count": 11,
   "metadata": {},
   "outputs": [
    {
     "data": {
      "application/vnd.jupyter.widget-view+json": {
       "model_id": "a4b1e5a96c2d4c42a4ad53c65bb44013",
       "version_major": 2,
       "version_minor": 1
      },
      "text/plain": [
       "Map(basemap_style=<CartoBasemap.DarkMatter: 'https://basemaps.cartocdn.com/gl/dark-matter-gl-style/style.json'…"
      ]
     },
     "execution_count": 11,
     "metadata": {},
     "output_type": "execute_result"
    }
   ],
   "source": [
    "viz([toilets, water])"
   ]
  },
  {
   "cell_type": "code",
   "execution_count": 12,
   "metadata": {},
   "outputs": [],
   "source": [
    "water_min = water[[\"osm_id\", \"geometry\"]]\n",
    "# water_min.to_file(\"../data/water.geojson\", driver=\"GeoJSON\")"
   ]
  },
  {
   "cell_type": "code",
   "execution_count": 13,
   "metadata": {},
   "outputs": [],
   "source": [
    "toilets_min = toilets[[\"osm_id\", \"geometry\"]]\n",
    "# toilets_min.to_file(\"../data/toilets.geojson\", driver=\"GeoJSON\")"
   ]
  }
 ],
 "metadata": {
  "kernelspec": {
   "display_name": "Python 3",
   "language": "python",
   "name": "python3"
  },
  "language_info": {
   "codemirror_mode": {
    "name": "ipython",
    "version": 3
   },
   "file_extension": ".py",
   "mimetype": "text/x-python",
   "name": "python",
   "nbconvert_exporter": "python",
   "pygments_lexer": "ipython3",
   "version": "3.10.15"
  }
 },
 "nbformat": 4,
 "nbformat_minor": 2
}
