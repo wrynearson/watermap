{
 "cells": [
  {
   "cell_type": "code",
   "execution_count": 1,
   "metadata": {},
   "outputs": [],
   "source": [
    "import lonboard\n",
    "from lonboard import viz\n",
    "import pyrosm\n",
    "from pyrosm import get_data, OSM\n",
    "from pyrosm.data import sources\n",
    "import pandas as pd\n",
    "import geopandas as gpd\n",
    "import ast\n",
    "import json\n",
    "import re\n",
    "import osmium as o\n",
    "from pyogrio import read_info, read_dataframe"
   ]
  },
  {
   "cell_type": "code",
   "execution_count": null,
   "metadata": {},
   "outputs": [
    {
     "name": "stdout",
     "output_type": "stream",
     "text": [
      "Layer: points, Number of features: 15814\n",
      "Layer: lines, Number of features: 242\n",
      "Layer: multilinestrings, Number of features: 0\n",
      "Nothing to write to multilinestrings.geojson. Skipping...\n",
      "Layer: multipolygons, Number of features: 828\n"
     ]
    }
   ],
   "source": [
    "# From inspecting pbf files\n",
    "layers = ['points', 'lines', 'multilinestrings', 'multipolygons']\n",
    "\n",
    "gdf_list = []\n",
    "\n",
    "# Iterate through the layers and read each one\n",
    "for layer in layers:\n",
    "    try:\n",
    "        # Read the layer from the PBF file\n",
    "        gdf = gpd.read_file(\"../data/raw/output.pbf\", engine=\"pyogrio\", layer=layer)\n",
    "        \n",
    "        # Add a new column to indicate the layer\n",
    "        gdf['layer'] = layer\n",
    "        \n",
    "        # Append the GeoDataFrame to the list\n",
    "        gdf_list.append(gdf)\n",
    "\n",
    "        # Optionally print the first few rows of the GeoDataFrame\n",
    "        print(f\"Layer: {layer}, Number of features: {len(gdf)}\")\n",
    "\n",
    "        # Export the layer as a separate .geojson, to later add as tile layers in tippecanoe\n",
    "\n",
    "        if len(gdf) > 0:\n",
    "            export = gdf[[\"osm_id\", \"geometry\"]]\n",
    "            export.to_file(f\"../data/raw/geojsons/{layer}.geojson\", driver=\"GeoJSON\")\n",
    "        else:\n",
    "            print(f\"Nothing to write to {layer}.geojson. Skipping...\")\n",
    "    except Exception as e:\n",
    "        print(f\"Failed to read layer {layer}: {e}\")\n",
    "\n",
    "# Concatenate all GeoDataFrames in the list into a single GeoDataFrame\n",
    "combined_gdf = gpd.GeoDataFrame(pd.concat(gdf_list, ignore_index=True))\n",
    "\n",
    "combined_gdf_min = combined_gdf[[\"osm_id\", \"geometry\"]]\n",
    "# combined_gdf_min.to_file(\"../data/water_plus.geojson\", driver=\"GeoJSON\")"
   ]
  },
  {
   "cell_type": "code",
   "execution_count": 5,
   "metadata": {},
   "outputs": [
    {
     "data": {
      "application/vnd.jupyter.widget-view+json": {
       "model_id": "a09f193067ea4ac384f2d3840173ae7f",
       "version_major": 2,
       "version_minor": 1
      },
      "text/plain": [
       "Map(basemap_style=<CartoBasemap.DarkMatter: 'https://basemaps.cartocdn.com/gl/dark-matter-gl-style/style.json'…"
      ]
     },
     "execution_count": 5,
     "metadata": {},
     "output_type": "execute_result"
    }
   ],
   "source": [
    "viz(combined_gdf_min)"
   ]
  },
  {
   "cell_type": "code",
   "execution_count": null,
   "metadata": {},
   "outputs": [],
   "source": [
    "# Help for the engine: https://github.com/geopandas/geopandas/discussions/3015\n",
    "\n",
    "water = gpd.read_file(\"../data/raw/drinking_water.osm.pbf\", engine=\"pyogrio\", layer = \"points\")\n",
    "toilets = gpd.read_file(\"../data/raw/toilets.osm.pbf\", engine=\"pyogrio\", layer=\"points\")"
   ]
  },
  {
   "cell_type": "code",
   "execution_count": null,
   "metadata": {},
   "outputs": [],
   "source": [
    "print(len(water), \"drinking water POIs and\", len(toilets), \"toilet POIs\")"
   ]
  },
  {
   "cell_type": "code",
   "execution_count": null,
   "metadata": {},
   "outputs": [],
   "source": [
    "water = water[[\"osm_id\", \"name\", \"geometry\", \"other_tags\"]]\n",
    "toilets = toilets[[\"osm_id\", \"name\", \"geometry\", \"other_tags\"]]"
   ]
  },
  {
   "cell_type": "code",
   "execution_count": null,
   "metadata": {},
   "outputs": [],
   "source": [
    "viz([toilets, water])"
   ]
  },
  {
   "cell_type": "code",
   "execution_count": null,
   "metadata": {},
   "outputs": [],
   "source": [
    "water_min = water[[\"osm_id\", \"geometry\"]]\n",
    "# water_min.to_file(\"../data/water.geojson\", driver=\"GeoJSON\")"
   ]
  },
  {
   "cell_type": "code",
   "execution_count": null,
   "metadata": {},
   "outputs": [],
   "source": [
    "toilets_min = toilets[[\"osm_id\", \"geometry\"]]\n",
    "# toilets_min.to_file(\"../data/toilets.geojson\", driver=\"GeoJSON\")"
   ]
  }
 ],
 "metadata": {
  "kernelspec": {
   "display_name": "Python 3",
   "language": "python",
   "name": "python3"
  },
  "language_info": {
   "codemirror_mode": {
    "name": "ipython",
    "version": 3
   },
   "file_extension": ".py",
   "mimetype": "text/x-python",
   "name": "python",
   "nbconvert_exporter": "python",
   "pygments_lexer": "ipython3",
   "version": "3.10.15"
  }
 },
 "nbformat": 4,
 "nbformat_minor": 2
}
